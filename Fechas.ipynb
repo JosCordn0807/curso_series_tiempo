{
 "cells": [
  {
   "attachments": {},
   "cell_type": "markdown",
   "metadata": {},
   "source": [
    "# Fechas"
   ]
  },
  {
   "cell_type": "code",
   "execution_count": 1,
   "metadata": {},
   "outputs": [
    {
     "data": {
      "text/plain": [
       "datetime.date(2012, 12, 21)"
      ]
     },
     "execution_count": 1,
     "metadata": {},
     "output_type": "execute_result"
    }
   ],
   "source": [
    "import datetime as dt \n",
    "yr, mo, dd = 2012, 12, 21\n",
    "dt.date(yr, mo, dd)"
   ]
  },
  {
   "cell_type": "code",
   "execution_count": 2,
   "metadata": {},
   "outputs": [
    {
     "data": {
      "text/plain": [
       "datetime.time(12, 21, 12, 21)"
      ]
     },
     "execution_count": 2,
     "metadata": {},
     "output_type": "execute_result"
    }
   ],
   "source": [
    "hr, mm, ss, ms= 12, 21, 12, 21\n",
    "dt.time(hr, mm, ss, ms)"
   ]
  },
  {
   "cell_type": "code",
   "execution_count": 3,
   "metadata": {},
   "outputs": [
    {
     "data": {
      "text/plain": [
       "datetime.datetime(2012, 12, 21, 12, 21, 12, 21)"
      ]
     },
     "execution_count": 3,
     "metadata": {},
     "output_type": "execute_result"
    }
   ],
   "source": [
    "dt.datetime(yr, mo, dd, hr, mm, ss, ms)"
   ]
  },
  {
   "attachments": {},
   "cell_type": "markdown",
   "metadata": {},
   "source": [
    "## Atributos"
   ]
  },
  {
   "cell_type": "code",
   "execution_count": 4,
   "metadata": {},
   "outputs": [
    {
     "name": "stdout",
     "output_type": "stream",
     "text": [
      "Minuto 36\n",
      "1\n",
      "2\n",
      "datetime.IsoCalendarDate(year=2023, week=19, weekday=2)\n"
     ]
    }
   ],
   "source": [
    "fecha = dt.datetime.now()\n",
    "print('Minuto',fecha.minute)\n",
    "fecha.second\n",
    "fecha.day\n",
    "fecha.month\n",
    "fecha.year\n",
    "print(fecha.weekday())\n",
    "print(fecha.isoweekday())\n",
    "print(fecha.isocalendar())"
   ]
  },
  {
   "attachments": {},
   "cell_type": "markdown",
   "metadata": {},
   "source": [
    "## Matemáticas"
   ]
  },
  {
   "attachments": {},
   "cell_type": "markdown",
   "metadata": {},
   "source": [
    "### Añadir"
   ]
  },
  {
   "cell_type": "code",
   "execution_count": 5,
   "metadata": {},
   "outputs": [
    {
     "data": {
      "text/plain": [
       "datetime.datetime(2023, 5, 16, 8, 36, 32, 827717)"
      ]
     },
     "execution_count": 5,
     "metadata": {},
     "output_type": "execute_result"
    }
   ],
   "source": [
    "hoy = dt.datetime.now()\n",
    "hoy + dt.timedelta(days = 1)\n",
    "hoy + dt.timedelta(weeks = 1)\n",
    "#quantlib"
   ]
  },
  {
   "cell_type": "code",
   "execution_count": 6,
   "metadata": {},
   "outputs": [
    {
     "data": {
      "text/plain": [
       "datetime.datetime(2025, 5, 9, 8, 36, 32, 827717)"
      ]
     },
     "execution_count": 6,
     "metadata": {},
     "output_type": "execute_result"
    }
   ],
   "source": [
    "from dateutil.relativedelta import relativedelta\n",
    "hoy + relativedelta(months=1)\n",
    "hoy + relativedelta(years=2)"
   ]
  },
  {
   "attachments": {},
   "cell_type": "markdown",
   "metadata": {},
   "source": [
    "### Diferencia"
   ]
  },
  {
   "cell_type": "code",
   "execution_count": 7,
   "metadata": {},
   "outputs": [
    {
     "data": {
      "text/plain": [
       "datetime.timedelta(days=365)"
      ]
     },
     "execution_count": 7,
     "metadata": {},
     "output_type": "execute_result"
    }
   ],
   "source": [
    "yr, mo, dd = 2012, 12, 21\n",
    "hr, mm, ss, ms= 12, 21, 12, 21\n",
    "d1 = dt.datetime(yr, mo, dd, hr, mm, ss, ms)\n",
    "d2 = dt.datetime(yr + 1, mo, dd, hr, mm, ss, ms)\n",
    "dif = d2-d1\n",
    "dif #No se convierte a int o float\n",
    "#str(dif)"
   ]
  },
  {
   "cell_type": "code",
   "execution_count": 8,
   "metadata": {},
   "outputs": [
    {
     "name": "stdout",
     "output_type": "stream",
     "text": [
      "31536000.0\n"
     ]
    },
    {
     "data": {
      "text/plain": [
       "365"
      ]
     },
     "execution_count": 8,
     "metadata": {},
     "output_type": "execute_result"
    }
   ],
   "source": [
    "print(dif.total_seconds()) #Total de segundos de toda la duración\n",
    "dif.days\n",
    "#dif.seconds"
   ]
  },
  {
   "cell_type": "code",
   "execution_count": 9,
   "metadata": {},
   "outputs": [
    {
     "name": "stdout",
     "output_type": "stream",
     "text": [
      "525600.0\n"
     ]
    },
    {
     "data": {
      "text/plain": [
       "52.142857142857146"
      ]
     },
     "execution_count": 9,
     "metadata": {},
     "output_type": "execute_result"
    }
   ],
   "source": [
    "print(dif / dt.timedelta(minutes = 1)) #Minutos \n",
    "dif / dt.timedelta(hours = 0.5)\n",
    "dif / dt.timedelta(days = 1)\n",
    "cant_semanas = dif / dt.timedelta(days = 7)\n",
    "cant_semanas"
   ]
  },
  {
   "attachments": {},
   "cell_type": "markdown",
   "metadata": {},
   "source": [
    "## Convertir"
   ]
  },
  {
   "cell_type": "code",
   "execution_count": 10,
   "metadata": {},
   "outputs": [
    {
     "name": "stdout",
     "output_type": "stream",
     "text": [
      "09-05-23\n",
      "09-05-2023\n",
      "09-May-2023\n",
      "09-May-2023\n"
     ]
    }
   ],
   "source": [
    "print(dt.datetime.now().strftime(format = '%d-%m-%y'))\n",
    "print(dt.datetime.now().strftime(format = '%d-%m-%Y'))\n",
    "print(dt.datetime.now().strftime(format = '%d-%b-%Y'))\n",
    "print(dt.datetime.now().strftime(format = '%d-%B-%Y'))"
   ]
  },
  {
   "cell_type": "code",
   "execution_count": 11,
   "metadata": {},
   "outputs": [
    {
     "data": {
      "text/plain": [
       "'09-mayo-2023'"
      ]
     },
     "execution_count": 11,
     "metadata": {},
     "output_type": "execute_result"
    }
   ],
   "source": [
    "import locale #Módulo \n",
    "locale.setlocale(locale.LC_TIME, 'es_ES.UTF-8')\n",
    "dt.datetime.now().strftime(format = '%d-%B-%Y')"
   ]
  },
  {
   "cell_type": "code",
   "execution_count": 12,
   "metadata": {},
   "outputs": [
    {
     "data": {
      "text/plain": [
       "datetime.datetime(2020, 2, 20, 0, 0)"
      ]
     },
     "execution_count": 12,
     "metadata": {},
     "output_type": "execute_result"
    }
   ],
   "source": [
    "dt.datetime.strptime(\"2020 20 02\",\"%Y %d %m\")"
   ]
  },
  {
   "attachments": {},
   "cell_type": "markdown",
   "metadata": {},
   "source": [
    "|Expresión|Significado|\n",
    "|---------|-----------|\n",
    "|%a| Día de la semana abreviado|\n",
    "|%A | Día de la semana largo|\n",
    "|%w| Día de la semana en número|\n",
    "|%d|Día con un 0 delante de los menores a 10|\n",
    "|%-d| Día sin el cero|\n",
    "|%b| Mes abreviado|\n",
    "|%B| Mes completo|\n",
    "|%m| Número de mes|\n",
    "|%Y|Año completo| \n",
    "|%y|Año sin el siglo| \n",
    "|%Z| Zona horaria|\n",
    "|%z| UTC|\n",
    "|%x| Fecha corta|\n",
    "|%c|Fecha larga|"
   ]
  },
  {
   "cell_type": "code",
   "execution_count": 13,
   "metadata": {},
   "outputs": [
    {
     "data": {
      "text/plain": [
       "'09/05/2023'"
      ]
     },
     "execution_count": 13,
     "metadata": {},
     "output_type": "execute_result"
    }
   ],
   "source": [
    "dt.datetime.now().strftime(format = '%x')"
   ]
  },
  {
   "attachments": {},
   "cell_type": "markdown",
   "metadata": {},
   "source": [
    "## Numpy datetime64"
   ]
  },
  {
   "cell_type": "code",
   "execution_count": 14,
   "metadata": {},
   "outputs": [
    {
     "data": {
      "text/plain": [
       "array(['2015-07-04'], dtype='datetime64[D]')"
      ]
     },
     "execution_count": 14,
     "metadata": {},
     "output_type": "execute_result"
    }
   ],
   "source": [
    "import numpy as np\n",
    "date = np.array(['2015-07-04'], dtype=np.datetime64)\n",
    "date"
   ]
  },
  {
   "cell_type": "code",
   "execution_count": 15,
   "metadata": {},
   "outputs": [
    {
     "data": {
      "text/plain": [
       "array(['2015-07-04', '2015-07-05', '2015-07-06', '2015-07-07',\n",
       "       '2015-07-08', '2015-07-09', '2015-07-10', '2015-07-11',\n",
       "       '2015-07-12', '2015-07-13', '2015-07-14', '2015-07-15'],\n",
       "      dtype='datetime64[D]')"
      ]
     },
     "execution_count": 15,
     "metadata": {},
     "output_type": "execute_result"
    }
   ],
   "source": [
    "date + np.arange(12) #0:11"
   ]
  },
  {
   "cell_type": "code",
   "execution_count": 16,
   "metadata": {},
   "outputs": [
    {
     "data": {
      "text/plain": [
       "array(['2013-09-02', '2013-09-04'], dtype='datetime64[D]')"
      ]
     },
     "execution_count": 16,
     "metadata": {},
     "output_type": "execute_result"
    }
   ],
   "source": [
    "dates = np.array(['2013-09-01','2013-09-02'],dtype='datetime64')\n",
    "#dates + 1\n",
    "dates + [1,2]"
   ]
  },
  {
   "cell_type": "code",
   "execution_count": 17,
   "metadata": {},
   "outputs": [],
   "source": [
    "dif = date - np.datetime64('2025-05-05')\n",
    "dif = dates - np.datetime64('2025-05-05')\n",
    "# No se pueden combinar datetime con datetime64\n",
    "#dif[0] / dt.timedelta(days = 1)\n",
    "# int(dif[0] * 2) #Es un objeto, no es un número"
   ]
  },
  {
   "attachments": {},
   "cell_type": "markdown",
   "metadata": {},
   "source": [
    "## Pandas datetime"
   ]
  },
  {
   "cell_type": "code",
   "execution_count": 18,
   "metadata": {},
   "outputs": [
    {
     "data": {
      "text/plain": [
       "Timestamp('2015-07-04 00:00:00')"
      ]
     },
     "execution_count": 18,
     "metadata": {},
     "output_type": "execute_result"
    }
   ],
   "source": [
    "import pandas as pd\n",
    "date = pd.to_datetime(\"4th of July, 2015\") #Entiende por defecto ciertas expresiones\n",
    "#\"Y-m-d\" 20200202\n",
    "date"
   ]
  },
  {
   "cell_type": "code",
   "execution_count": 19,
   "metadata": {},
   "outputs": [
    {
     "data": {
      "text/plain": [
       "DatetimeIndex(['2015-07-04 00:00:00', '2015-07-04 01:00:00',\n",
       "               '2015-07-04 02:00:00', '2015-07-04 03:00:00',\n",
       "               '2015-07-04 04:00:00', '2015-07-04 05:00:00',\n",
       "               '2015-07-04 06:00:00', '2015-07-04 07:00:00',\n",
       "               '2015-07-04 08:00:00', '2015-07-04 09:00:00',\n",
       "               '2015-07-04 10:00:00', '2015-07-04 11:00:00'],\n",
       "              dtype='datetime64[ns]', freq=None)"
      ]
     },
     "execution_count": 19,
     "metadata": {},
     "output_type": "execute_result"
    }
   ],
   "source": [
    "date + pd.to_timedelta(np.arange(12), 'H') #Antes"
   ]
  },
  {
   "cell_type": "code",
   "execution_count": 20,
   "metadata": {},
   "outputs": [
    {
     "data": {
      "text/plain": [
       "2014-07-04    0\n",
       "2014-08-04    1\n",
       "2015-07-04    2\n",
       "2015-08-04    3\n",
       "dtype: int64"
      ]
     },
     "execution_count": 20,
     "metadata": {},
     "output_type": "execute_result"
    }
   ],
   "source": [
    "index = pd.DatetimeIndex(['2014-07-04', '2014-08-04','2015-07-04', '2015-08-04'])\n",
    "data = pd.Series([0, 1, 2, 3], index=index)\n",
    "data"
   ]
  },
  {
   "cell_type": "code",
   "execution_count": 21,
   "metadata": {},
   "outputs": [
    {
     "data": {
      "text/plain": [
       "2014-07-04    0\n",
       "2014-08-04    1\n",
       "2015-07-04    2\n",
       "dtype: int64"
      ]
     },
     "execution_count": 21,
     "metadata": {},
     "output_type": "execute_result"
    }
   ],
   "source": [
    "data['2014-07-04':'2015-07-04']"
   ]
  },
  {
   "cell_type": "code",
   "execution_count": 22,
   "metadata": {},
   "outputs": [
    {
     "data": {
      "text/plain": [
       "2015-07-04    2\n",
       "2015-08-04    3\n",
       "dtype: int64"
      ]
     },
     "execution_count": 22,
     "metadata": {},
     "output_type": "execute_result"
    }
   ],
   "source": [
    "#data['2015-06':'2015-07']\n",
    "data['2015']"
   ]
  },
  {
   "cell_type": "code",
   "execution_count": 23,
   "metadata": {},
   "outputs": [],
   "source": [
    "#dates.to_period('D')\n",
    "#dates - dates[0]"
   ]
  },
  {
   "cell_type": "code",
   "execution_count": 24,
   "metadata": {},
   "outputs": [
    {
     "data": {
      "text/plain": [
       "DatetimeIndex(['2015-07-03', '2015-07-04', '2015-07-05', '2015-07-06',\n",
       "               '2015-07-07', '2015-07-08', '2015-07-09', '2015-07-10',\n",
       "               '2015-07-11', '2015-07-12',\n",
       "               ...\n",
       "               '2018-07-31', '2018-08-01', '2018-08-02', '2018-08-03',\n",
       "               '2018-08-04', '2018-08-05', '2018-08-06', '2018-08-07',\n",
       "               '2018-08-08', '2018-08-09'],\n",
       "              dtype='datetime64[ns]', length=1134, freq='D')"
      ]
     },
     "execution_count": 24,
     "metadata": {},
     "output_type": "execute_result"
    }
   ],
   "source": [
    "pd.date_range('2015-07-03','2018-08-09')"
   ]
  },
  {
   "cell_type": "code",
   "execution_count": 25,
   "metadata": {},
   "outputs": [
    {
     "data": {
      "text/plain": [
       "DatetimeIndex([          '2015-07-03 00:00:00',\n",
       "               '2015-09-21 22:17:08.571428571',\n",
       "               '2015-12-11 20:34:17.142857142',\n",
       "               '2016-03-01 18:51:25.714285712',\n",
       "               '2016-05-21 17:08:34.285714284',\n",
       "               '2016-08-10 15:25:42.857142856',\n",
       "               '2016-10-30 13:42:51.428571424',\n",
       "                         '2017-01-19 12:00:00',\n",
       "               '2017-04-10 10:17:08.571428568',\n",
       "               '2017-06-30 08:34:17.142857136',\n",
       "               '2017-09-19 06:51:25.714285712',\n",
       "               '2017-12-09 05:08:34.285714288',\n",
       "               '2018-02-28 03:25:42.857142848',\n",
       "               '2018-05-20 01:42:51.428571424',\n",
       "                         '2018-08-09 00:00:00'],\n",
       "              dtype='datetime64[ns]', freq=None)"
      ]
     },
     "execution_count": 25,
     "metadata": {},
     "output_type": "execute_result"
    }
   ],
   "source": [
    "pd.date_range('2015-07-03','2018-08-09',periods=15)"
   ]
  },
  {
   "cell_type": "code",
   "execution_count": 26,
   "metadata": {},
   "outputs": [
    {
     "data": {
      "text/plain": [
       "DatetimeIndex(['2015-07-03', '2015-07-04', '2015-07-05', '2015-07-06',\n",
       "               '2015-07-07', '2015-07-08', '2015-07-09', '2015-07-10',\n",
       "               '2015-07-11', '2015-07-12', '2015-07-13', '2015-07-14',\n",
       "               '2015-07-15', '2015-07-16', '2015-07-17'],\n",
       "              dtype='datetime64[ns]', freq='D')"
      ]
     },
     "execution_count": 26,
     "metadata": {},
     "output_type": "execute_result"
    }
   ],
   "source": [
    "pd.date_range('2015-07-03',periods=15)"
   ]
  },
  {
   "cell_type": "code",
   "execution_count": 27,
   "metadata": {},
   "outputs": [
    {
     "data": {
      "text/plain": [
       "DatetimeIndex(['2015-12-31', '2016-12-31', '2017-12-31', '2018-12-31',\n",
       "               '2019-12-31', '2020-12-31'],\n",
       "              dtype='datetime64[ns]', freq='A-DEC')"
      ]
     },
     "execution_count": 27,
     "metadata": {},
     "output_type": "execute_result"
    }
   ],
   "source": [
    "#Cierre de mes\n",
    "#pd.date_range('2015-07-03',freq='6M',periods=6)\n",
    "#pd.date_range('2015-07-03',freq='6M',periods=6,normalize=True)\n",
    "pd.date_range('2015-07-03',freq='Y',periods=6)"
   ]
  },
  {
   "cell_type": "code",
   "execution_count": 28,
   "metadata": {},
   "outputs": [
    {
     "data": {
      "text/plain": [
       "DatetimeIndex(['2015-07-01', '2015-07-02', '2015-07-03', '2015-07-06',\n",
       "               '2015-07-07'],\n",
       "              dtype='datetime64[ns]', freq='B')"
      ]
     },
     "execution_count": 28,
     "metadata": {},
     "output_type": "execute_result"
    }
   ],
   "source": [
    "#quantlib\n",
    "from pandas.tseries.offsets import BDay\n",
    "pd.date_range('2015-07-01', periods=5, freq=BDay())"
   ]
  },
  {
   "attachments": {},
   "cell_type": "markdown",
   "metadata": {},
   "source": [
    "|Código|Descripción|\n",
    "|------|-----------|\n",
    "|D|Día calendario|\n",
    "|B| Día hábil|\n",
    "|W| Semana|\n",
    "|M|Fin de mes|\n",
    "|BM|Fin de mes laboral|\n",
    "|Q(BQ)|Trimestre|\n",
    "|A(BA)|Año|\n",
    "|H(BH)|Hora|"
   ]
  },
  {
   "attachments": {},
   "cell_type": "markdown",
   "metadata": {},
   "source": [
    "**Ejemplo**: valoración de un bono.\n",
    "- Pagan semianualmente, con un cupón del 3%.\n",
    "- Fue emitido el 21/5/2022. Finaliza el 21/5/2028 (6 años). Se quiere valorar al 1/1/2023.\n",
    "- Tasa de interés del 5% (anualizada).\n",
    "\n",
    "$$\\sum_{j=1}^n \\dfrac{100c/p}{(1+r/p)^{t_j*p/365}} + \\dfrac{100}{(1+r/p)^{t_n*p/365} }$$\n",
    "\n",
    "- $c$: tasa del cupón.\n",
    "- $p$: periodicidad del pago. Semestral = 2. \n",
    "- $r$: tasa de interés.\n",
    "- $t_j$: cantidad de días transcurridos desde la fecha de la valoración hasta el pago del cupón."
   ]
  },
  {
   "cell_type": "code",
   "execution_count": 29,
   "metadata": {},
   "outputs": [
    {
     "name": "stdout",
     "output_type": "stream",
     "text": [
      "2192\n",
      "13.0\n"
     ]
    }
   ],
   "source": [
    "#Fechas\n",
    "issue_date = pd.to_datetime('21/5/2022',format='%d/%m/%Y') #Emite\n",
    "settle_date = pd.to_datetime('01/01/2023',format='%d/%m/%Y') #Settle\n",
    "maturity_date = pd.to_datetime('21/5/2028',format='%d/%m/%Y') #Termina\n",
    "\n",
    "dif_semestres = (maturity_date - issue_date).days\n",
    "cant_semestres = np.ceil(dif_semestres/(6*30))\n",
    "print(dif_semestres)\n",
    "print(cant_semestres)"
   ]
  },
  {
   "cell_type": "code",
   "execution_count": 30,
   "metadata": {},
   "outputs": [
    {
     "data": {
      "text/plain": [
       "1    2023-05-21\n",
       "2    2023-11-21\n",
       "3    2024-05-21\n",
       "4    2024-11-21\n",
       "5    2025-05-21\n",
       "6    2025-11-21\n",
       "7    2026-05-21\n",
       "8    2026-11-21\n",
       "9    2027-05-21\n",
       "10   2027-11-21\n",
       "11   2028-05-21\n",
       "dtype: datetime64[ns]"
      ]
     },
     "execution_count": 30,
     "metadata": {},
     "output_type": "execute_result"
    }
   ],
   "source": [
    "#Cantidad de semestres\n",
    "fecha_cupon = pd.Series([issue_date + relativedelta(months = 6*int(i)) for i in range(1,int(cant_semestres))])\n",
    "#Filtro\n",
    "fecha_cupon = fecha_cupon[fecha_cupon >= settle_date]\n",
    "fecha_cupon"
   ]
  },
  {
   "cell_type": "code",
   "execution_count": 31,
   "metadata": {},
   "outputs": [
    {
     "data": {
      "text/html": [
       "<div>\n",
       "<style scoped>\n",
       "    .dataframe tbody tr th:only-of-type {\n",
       "        vertical-align: middle;\n",
       "    }\n",
       "\n",
       "    .dataframe tbody tr th {\n",
       "        vertical-align: top;\n",
       "    }\n",
       "\n",
       "    .dataframe thead th {\n",
       "        text-align: right;\n",
       "    }\n",
       "</style>\n",
       "<table border=\"1\" class=\"dataframe\">\n",
       "  <thead>\n",
       "    <tr style=\"text-align: right;\">\n",
       "      <th></th>\n",
       "      <th>fecha_cupon</th>\n",
       "      <th>dias_descontar</th>\n",
       "    </tr>\n",
       "  </thead>\n",
       "  <tbody>\n",
       "    <tr>\n",
       "      <th>1</th>\n",
       "      <td>2023-05-21</td>\n",
       "      <td>140</td>\n",
       "    </tr>\n",
       "    <tr>\n",
       "      <th>2</th>\n",
       "      <td>2023-11-21</td>\n",
       "      <td>324</td>\n",
       "    </tr>\n",
       "    <tr>\n",
       "      <th>3</th>\n",
       "      <td>2024-05-21</td>\n",
       "      <td>506</td>\n",
       "    </tr>\n",
       "    <tr>\n",
       "      <th>4</th>\n",
       "      <td>2024-11-21</td>\n",
       "      <td>690</td>\n",
       "    </tr>\n",
       "    <tr>\n",
       "      <th>5</th>\n",
       "      <td>2025-05-21</td>\n",
       "      <td>871</td>\n",
       "    </tr>\n",
       "    <tr>\n",
       "      <th>6</th>\n",
       "      <td>2025-11-21</td>\n",
       "      <td>1055</td>\n",
       "    </tr>\n",
       "    <tr>\n",
       "      <th>7</th>\n",
       "      <td>2026-05-21</td>\n",
       "      <td>1236</td>\n",
       "    </tr>\n",
       "    <tr>\n",
       "      <th>8</th>\n",
       "      <td>2026-11-21</td>\n",
       "      <td>1420</td>\n",
       "    </tr>\n",
       "    <tr>\n",
       "      <th>9</th>\n",
       "      <td>2027-05-21</td>\n",
       "      <td>1601</td>\n",
       "    </tr>\n",
       "    <tr>\n",
       "      <th>10</th>\n",
       "      <td>2027-11-21</td>\n",
       "      <td>1785</td>\n",
       "    </tr>\n",
       "    <tr>\n",
       "      <th>11</th>\n",
       "      <td>2028-05-21</td>\n",
       "      <td>1967</td>\n",
       "    </tr>\n",
       "  </tbody>\n",
       "</table>\n",
       "</div>"
      ],
      "text/plain": [
       "   fecha_cupon  dias_descontar\n",
       "1   2023-05-21             140\n",
       "2   2023-11-21             324\n",
       "3   2024-05-21             506\n",
       "4   2024-11-21             690\n",
       "5   2025-05-21             871\n",
       "6   2025-11-21            1055\n",
       "7   2026-05-21            1236\n",
       "8   2026-11-21            1420\n",
       "9   2027-05-21            1601\n",
       "10  2027-11-21            1785\n",
       "11  2028-05-21            1967"
      ]
     },
     "execution_count": 31,
     "metadata": {},
     "output_type": "execute_result"
    }
   ],
   "source": [
    "bono = pd.DataFrame({'fecha_cupon': fecha_cupon})\n",
    "bono['dias_descontar'] = (bono['fecha_cupon'] - settle_date).dt.days \n",
    "bono"
   ]
  },
  {
   "cell_type": "code",
   "execution_count": 32,
   "metadata": {},
   "outputs": [
    {
     "name": "stderr",
     "output_type": "stream",
     "text": [
      "C:\\Users\\josea\\AppData\\Local\\Temp\\ipykernel_10684\\842968528.py:4: SettingWithCopyWarning: \n",
      "A value is trying to be set on a copy of a slice from a DataFrame\n",
      "\n",
      "See the caveats in the documentation: https://pandas.pydata.org/pandas-docs/stable/user_guide/indexing.html#returning-a-view-versus-a-copy\n",
      "  bono['cupon'].iloc[len(bono['cupon'])-1] += 1 # Al final pago el principal\n"
     ]
    },
    {
     "data": {
      "text/html": [
       "<div>\n",
       "<style scoped>\n",
       "    .dataframe tbody tr th:only-of-type {\n",
       "        vertical-align: middle;\n",
       "    }\n",
       "\n",
       "    .dataframe tbody tr th {\n",
       "        vertical-align: top;\n",
       "    }\n",
       "\n",
       "    .dataframe thead th {\n",
       "        text-align: right;\n",
       "    }\n",
       "</style>\n",
       "<table border=\"1\" class=\"dataframe\">\n",
       "  <thead>\n",
       "    <tr style=\"text-align: right;\">\n",
       "      <th></th>\n",
       "      <th>fecha_cupon</th>\n",
       "      <th>dias_descontar</th>\n",
       "      <th>semestre_descontar</th>\n",
       "      <th>cupon</th>\n",
       "    </tr>\n",
       "  </thead>\n",
       "  <tbody>\n",
       "    <tr>\n",
       "      <th>1</th>\n",
       "      <td>2023-05-21</td>\n",
       "      <td>140</td>\n",
       "      <td>0.767123</td>\n",
       "      <td>0.015</td>\n",
       "    </tr>\n",
       "    <tr>\n",
       "      <th>2</th>\n",
       "      <td>2023-11-21</td>\n",
       "      <td>324</td>\n",
       "      <td>1.775342</td>\n",
       "      <td>0.015</td>\n",
       "    </tr>\n",
       "    <tr>\n",
       "      <th>3</th>\n",
       "      <td>2024-05-21</td>\n",
       "      <td>506</td>\n",
       "      <td>2.772603</td>\n",
       "      <td>0.015</td>\n",
       "    </tr>\n",
       "    <tr>\n",
       "      <th>4</th>\n",
       "      <td>2024-11-21</td>\n",
       "      <td>690</td>\n",
       "      <td>3.780822</td>\n",
       "      <td>0.015</td>\n",
       "    </tr>\n",
       "    <tr>\n",
       "      <th>5</th>\n",
       "      <td>2025-05-21</td>\n",
       "      <td>871</td>\n",
       "      <td>4.772603</td>\n",
       "      <td>0.015</td>\n",
       "    </tr>\n",
       "    <tr>\n",
       "      <th>6</th>\n",
       "      <td>2025-11-21</td>\n",
       "      <td>1055</td>\n",
       "      <td>5.780822</td>\n",
       "      <td>0.015</td>\n",
       "    </tr>\n",
       "    <tr>\n",
       "      <th>7</th>\n",
       "      <td>2026-05-21</td>\n",
       "      <td>1236</td>\n",
       "      <td>6.772603</td>\n",
       "      <td>0.015</td>\n",
       "    </tr>\n",
       "    <tr>\n",
       "      <th>8</th>\n",
       "      <td>2026-11-21</td>\n",
       "      <td>1420</td>\n",
       "      <td>7.780822</td>\n",
       "      <td>0.015</td>\n",
       "    </tr>\n",
       "    <tr>\n",
       "      <th>9</th>\n",
       "      <td>2027-05-21</td>\n",
       "      <td>1601</td>\n",
       "      <td>8.772603</td>\n",
       "      <td>0.015</td>\n",
       "    </tr>\n",
       "    <tr>\n",
       "      <th>10</th>\n",
       "      <td>2027-11-21</td>\n",
       "      <td>1785</td>\n",
       "      <td>9.780822</td>\n",
       "      <td>0.015</td>\n",
       "    </tr>\n",
       "    <tr>\n",
       "      <th>11</th>\n",
       "      <td>2028-05-21</td>\n",
       "      <td>1967</td>\n",
       "      <td>10.778082</td>\n",
       "      <td>1.015</td>\n",
       "    </tr>\n",
       "  </tbody>\n",
       "</table>\n",
       "</div>"
      ],
      "text/plain": [
       "   fecha_cupon  dias_descontar  semestre_descontar  cupon\n",
       "1   2023-05-21             140            0.767123  0.015\n",
       "2   2023-11-21             324            1.775342  0.015\n",
       "3   2024-05-21             506            2.772603  0.015\n",
       "4   2024-11-21             690            3.780822  0.015\n",
       "5   2025-05-21             871            4.772603  0.015\n",
       "6   2025-11-21            1055            5.780822  0.015\n",
       "7   2026-05-21            1236            6.772603  0.015\n",
       "8   2026-11-21            1420            7.780822  0.015\n",
       "9   2027-05-21            1601            8.772603  0.015\n",
       "10  2027-11-21            1785            9.780822  0.015\n",
       "11  2028-05-21            1967           10.778082  1.015"
      ]
     },
     "execution_count": 32,
     "metadata": {},
     "output_type": "execute_result"
    }
   ],
   "source": [
    "bono['semestre_descontar'] = bono['dias_descontar'] / 365 * 2 \n",
    "bono = bono.assign(cupon = 0.03/2) #Tasa del cupón viene anualizada\n",
    "\n",
    "bono['cupon'].iloc[len(bono['cupon'])-1] += 1 # Al final pago el principal\n",
    "bono"
   ]
  },
  {
   "cell_type": "code",
   "execution_count": 33,
   "metadata": {},
   "outputs": [
    {
     "data": {
      "text/plain": [
       "90.9838465314963"
      ]
     },
     "execution_count": 33,
     "metadata": {},
     "output_type": "execute_result"
    }
   ],
   "source": [
    "#Descuento del 5%. Convertible semestralmente. \n",
    "bono['descuento'] = (1 + 0.05/2) ** - bono['semestre_descontar']\n",
    "\n",
    "bono['flujo'] = 100 * bono['cupon'] * bono['descuento']\n",
    "\n",
    "bono['flujo'].sum()\n"
   ]
  },
  {
   "cell_type": "code",
   "execution_count": 34,
   "metadata": {},
   "outputs": [
    {
     "name": "stdout",
     "output_type": "stream",
     "text": [
      "DatetimeIndex(['2015-07-31', '2015-08-31', '2015-09-30', '2015-10-30',\n",
      "               '2015-11-30', '2015-12-31'],\n",
      "              dtype='datetime64[ns]', freq='BM')\n",
      "DatetimeIndex(['2015-12-31', '2016-12-30', '2017-12-29', '2018-12-31',\n",
      "               '2019-12-31', '2020-12-31'],\n",
      "              dtype='datetime64[ns]', freq='BA-DEC')\n"
     ]
    }
   ],
   "source": [
    "#Uso de días laborales\n",
    "print(pd.date_range('2015-07-03',freq='BM',periods=6))\n",
    "print(pd.date_range('2015-07-03',freq='BA',periods=6))"
   ]
  }
 ],
 "metadata": {
  "kernelspec": {
   "display_name": "Python 3 (ipykernel)",
   "language": "python",
   "name": "python3"
  },
  "language_info": {
   "codemirror_mode": {
    "name": "ipython",
    "version": 3
   },
   "file_extension": ".py",
   "mimetype": "text/x-python",
   "name": "python",
   "nbconvert_exporter": "python",
   "pygments_lexer": "ipython3",
   "version": "3.12.4"
  }
 },
 "nbformat": 4,
 "nbformat_minor": 4
}
