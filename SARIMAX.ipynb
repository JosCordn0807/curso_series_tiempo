{
 "cells": [
  {
   "cell_type": "code",
   "execution_count": 8,
   "id": "31ac28ff-8437-46d0-818a-d3a5d9a743f0",
   "metadata": {},
   "outputs": [],
   "source": [
    "import pandas as pd\n",
    "import os\n",
    "import seaborn as sns"
   ]
  },
  {
   "cell_type": "code",
   "execution_count": 9,
   "id": "e77ea580-4899-4f57-ac50-65d783ff9421",
   "metadata": {},
   "outputs": [],
   "source": [
    "carpeta_archivos = r'C:\\Users\\josea\\Documents\\GitHub\\curso_series_tiempo\\Datos'\n",
    "balance = pd.read_excel(os.path.join(carpeta_archivos, \"balance_datos_completos.xlsx\"))"
   ]
  },
  {
   "cell_type": "code",
   "execution_count": null,
   "id": "e090fb2a-0916-4730-aaa3-99183369d8e5",
   "metadata": {},
   "outputs": [],
   "source": [
    "## Análisis descriptivo"
   ]
  },
  {
   "cell_type": "code",
   "execution_count": null,
   "id": "ae8897b6-138b-4d76-afd1-d78e7114e005",
   "metadata": {},
   "outputs": [],
   "source": []
  },
  {
   "cell_type": "code",
   "execution_count": null,
   "id": "8462e24a-528f-4ab3-8a5e-fd5fd3835b4d",
   "metadata": {
    "editable": true,
    "slideshow": {
     "slide_type": ""
    },
    "tags": []
   },
   "outputs": [],
   "source": []
  }
 ],
 "metadata": {
  "kernelspec": {
   "display_name": "Python 3 (ipykernel)",
   "language": "python",
   "name": "python3"
  },
  "language_info": {
   "codemirror_mode": {
    "name": "ipython",
    "version": 3
   },
   "file_extension": ".py",
   "mimetype": "text/x-python",
   "name": "python",
   "nbconvert_exporter": "python",
   "pygments_lexer": "ipython3",
   "version": "3.12.4"
  }
 },
 "nbformat": 4,
 "nbformat_minor": 5
}
